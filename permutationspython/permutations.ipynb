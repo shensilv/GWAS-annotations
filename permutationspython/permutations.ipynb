{
 "cells": [
  {
   "cell_type": "code",
   "execution_count": 3,
   "id": "c24b0379",
   "metadata": {},
   "outputs": [],
   "source": [
    "# import relevant modules and files\n",
    "\n",
    "import numpy as np\n",
    "import pandas as pd\n",
    "\n",
    "df_annotations = {}\n",
    "\n",
    "for i in range(1, 23):\n",
    "    df_annotations[i] = pd.read_csv(f\"{i}permutationready.tsv\", sep=\"\\t\")\n"
   ]
  },
  {
   "cell_type": "code",
   "execution_count": 4,
   "id": "27d31d7a",
   "metadata": {},
   "outputs": [],
   "source": [
    "annotations = ['3_prime_UTR_variant','5_prime_UTR_variant','NMD_transcript_variant','coding_sequence_variant','downstream_gene_variant','incomplete_terminal_codon_variant','intergenic_variant','intron_variant','mature_miRNA_variant','missense_variant','non_coding_transcript_exon_variant','non_coding_transcript_variant','splice_acceptor_variant','splice_donor_variant','splice_region_variant','start_lost','stop_gained','stop_lost','stop_retained_variant','synonymous_variant','upstream_gene_variant']\n"
   ]
  },
  {
   "cell_type": "code",
   "execution_count": 5,
   "id": "6b41574f",
   "metadata": {},
   "outputs": [],
   "source": [
    "# do for all chromosomes\n",
    "df_noheader = {}\n",
    "np_df = {}\n",
    "location_vec = {}\n",
    "annotation_matrix = {}\n",
    "a_matrix = {}\n",
    "\n",
    "for i in range(1,23):\n",
    "    df_noheader[i] = df_annotations[i].copy()\n",
    "    np_df[i] = df_noheader[i].to_numpy()\n",
    "    location_vec[i] = np_df[i][::,1]\n",
    "    annotation_matrix[i] = np_df[i][::,2:]\n",
    "    a_matrix[i] = annotation_matrix[i].transpose()\n",
    "    \n",
    "    "
   ]
  },
  {
   "cell_type": "code",
   "execution_count": 6,
   "id": "540aa6ca",
   "metadata": {},
   "outputs": [],
   "source": [
    "import random\n",
    "import time"
   ]
  },
  {
   "cell_type": "code",
   "execution_count": 7,
   "id": "b17d26f7",
   "metadata": {},
   "outputs": [
    {
     "name": "stdout",
     "output_type": "stream",
     "text": [
      "Time taken: 1902.219614982605\n"
     ]
    }
   ],
   "source": [
    "count_matrix = {}\n",
    "\n",
    "tic = time.time()\n",
    "\n",
    "for i in range(1,23):\n",
    "\n",
    "    count_matrix[i] = np.zeros((21,10000))\n",
    "    \n",
    "    for j in range(0,10000):\n",
    "        r = random.randint(0, len(location_vec[i]))\n",
    "        new_loc = np.roll(location_vec[i], r)\n",
    "        c_vec = np.matmul(a_matrix[i], new_loc)\n",
    "        count_matrix[i][:,j] = c_vec\n",
    "    \n",
    "toc = time.time()\n",
    "print(\"Time taken: {}\".format(toc-tic))\n",
    "\n",
    "# took 1902.6005499362946 seconds"
   ]
  },
  {
   "cell_type": "code",
   "execution_count": 8,
   "id": "462253d4",
   "metadata": {},
   "outputs": [],
   "source": [
    "# save as dataframe\n",
    "\n",
    "for i in range(1,23):\n",
    "    pd.DataFrame(count_matrix[i]).to_csv(f\"{i}_permutation_data.tsv\", sep=\"\\t\", index=False)"
   ]
  },
  {
   "cell_type": "code",
   "execution_count": 9,
   "id": "aa2b7567",
   "metadata": {},
   "outputs": [],
   "source": [
    "# calculate original number of sign SNPs in each annotation\n",
    "\n",
    "original_number = {}\n",
    "\n",
    "for i in range(1,23):\n",
    "    original_number[i] = np.matmul(a_matrix[i],location_vec[i])\n"
   ]
  },
  {
   "cell_type": "code",
   "execution_count": 15,
   "id": "d56c434f",
   "metadata": {},
   "outputs": [],
   "source": [
    "# graph the data\n",
    "import matplotlib.pyplot as plt\n",
    "# for chromosome i, annotation k:\n",
    "# distribution_matrix[i][k,::] is the values of how many sign SNPs are in that annotation\n",
    "i = 1\n",
    "for k in range(0,21):\n",
    "    plt.figure()\n",
    "    plt.hist(count_matrix[i][k,::], bins=100)\n",
    "    plt.gca().set(title='Transcript count Histogram', ylabel='Frequency', xlabel='Number of significant SNPs')\n",
    "    plt.rcParams['figure.figsize'] = [20, 10]\n",
    "    plt.axvline(x=original_number[i][k], color='r', label= 'observed number' )\n",
    "    plt.title('Chromosome ' + str(i) + ' with annotation \"' + annotations[k] +'\"')\n",
    "    plt.savefig(\"figure_\"+str(k)+\"_chrom_\"+str(i))\n",
    "    plt.close()"
   ]
  },
  {
   "cell_type": "code",
   "execution_count": null,
   "id": "88b8855d",
   "metadata": {},
   "outputs": [],
   "source": [
    "# count_matrix[n] for chromosome n (starts at 1, ends at 22)\n",
    "# count_matrix[n][k,::] for annotation k (starts at 0, ends at 20)\n",
    "# count_matrix[n][::,j] for permutation j (starts at 0, ends at 9999)"
   ]
  },
  {
   "cell_type": "code",
   "execution_count": 10,
   "id": "1b4bfc14",
   "metadata": {},
   "outputs": [],
   "source": [
    "from collections import Counter\n",
    "\n",
    "freq_matrix = {} # for all chromosomes\n",
    "\n",
    "for i in range(1,23):\n",
    "    \n",
    "    freq_matrix[i] = {}\n",
    "\n",
    "    for j in range(0,21):\n",
    "            freq_matrix[i][j] = Counter(count_matrix[i][j,::]) # count all permutations for one annotation"
   ]
  },
  {
   "cell_type": "code",
   "execution_count": 2,
   "id": "f103089d",
   "metadata": {},
   "outputs": [],
   "source": [
    "# freq_matrix[n] is the frequency counter for chromosome n (starts at 1, ends at 22)\n",
    "# freq_matrix[n][k] is the frequency counter for annotation k, chromosome n (starts at 0, ends at 20)\n",
    "# freq_matrix[n][k][j] is the number of counts in j \n",
    "\n",
    "#freq_matrix[4]"
   ]
  },
  {
   "cell_type": "code",
   "execution_count": 11,
   "id": "798d1036",
   "metadata": {},
   "outputs": [
    {
     "name": "stdout",
     "output_type": "stream",
     "text": [
      "(array([ 0,  0,  0,  0,  1,  1,  1,  1,  2,  3,  3,  3,  6,  6,  6,  8, 10,\n",
      "       10, 10, 11, 12, 13, 14, 15]), array([ 0,  1,  4, 20,  4,  7, 11, 13, 20,  0,  9, 16,  4, 10, 20,  9,  1,\n",
      "        4, 20, 20,  1,  4, 16, 13]))\n",
      "[0.0391 0.0049 0.0277 0.0116 0.0012 0.024  0.0129 0.0342 0.0033 0.0451\n",
      " 0.0077 0.0153 0.0037 0.005  0.0013 0.0012 0.0087 0.0006 0.0071 0.0329\n",
      " 0.0433 0.008  0.0266 0.0471]\n"
     ]
    }
   ],
   "source": [
    "# calculating enrichment\n",
    "enrichment_matrix = np.zeros((22,21))\n",
    "\n",
    "for i in range(0,22):\n",
    "# each row is the count nr in the corresponding chromosome n-1 (so row 0 corresponds to chrom 1)\n",
    "    for k in range(0,21): # k is the annotation nr\n",
    "        for l in freq_matrix[i+1][k]: # l is number of sign SNP in annotation\n",
    "            if l >= original_number[i+1][k]: # and original_number[i+1][k] != 0: \n",
    "                enrichment_matrix[i][k] = enrichment_matrix[i][k] + freq_matrix[i+1][k][l] # freq_matrix[i+1][k][l] \n",
    "                                                                              # is nr of counts of l sign SNP \n",
    "                                                                              # in annotation\n",
    "                        \n",
    "p_vals_e = enrichment_matrix/10000 #pvals for enrichment\n",
    "\n",
    "# find the significant ones\n",
    "\n",
    "idx = np.where((0 < p_vals_e) & (p_vals_e < 0.05)) # location of significant values\n",
    "\n",
    "print(idx)\n",
    "print(p_vals_e[(0 < p_vals_e) & (p_vals_e < 0.05)])"
   ]
  },
  {
   "cell_type": "code",
   "execution_count": 13,
   "id": "ec3ce39d",
   "metadata": {},
   "outputs": [],
   "source": [
    "# Calculating depletion\n",
    "\n",
    "depletion_matrix = np.zeros((22,21))\n",
    "\n",
    "for i in range(0,22):\n",
    "# each row is the count nr in the corresponding chromosome n-1 (so row 0 corresponds to chrom 1)\n",
    "    for k in range(0,21): # k is the annotation nr\n",
    "        for l in freq_matrix[i+1][k]: # l is number of sign SNP in annotation\n",
    "            if l <= original_number[i+1][k]: # and original_number[i+1][k] != 0: \n",
    "                depletion_matrix[i][k] = depletion_matrix[i][k] + freq_matrix[i+1][k][l] # freq_matrix[i+1][k][l] \n",
    "                                                                              # is nr of counts of l sign SNP \n",
    "                                                                              # in annotation"
   ]
  },
  {
   "cell_type": "code",
   "execution_count": 16,
   "id": "d63059d1",
   "metadata": {},
   "outputs": [
    {
     "name": "stdout",
     "output_type": "stream",
     "text": [
      "(array([ 0,  1,  2,  5,  8, 10, 13, 15, 16, 17]), array([6, 6, 6, 2, 6, 6, 6, 6, 9, 4]))\n",
      "[0.0093 0.0001 0.0151 0.0346 0.014  0.0343 0.019  0.0336 0.0439 0.034 ]\n"
     ]
    }
   ],
   "source": [
    "p_vals_d = depletion_matrix/10000 #pvals for enrichment\n",
    "\n",
    "# find the significant ones\n",
    "\n",
    "idx2 = np.where((0 < p_vals_d) & (p_vals_d < 0.05)) # location of significant values\n",
    "\n",
    "print(idx2)\n",
    "print(p_vals_d[(0 < p_vals_d) & (p_vals_d < 0.05)])"
   ]
  },
  {
   "cell_type": "code",
   "execution_count": 12,
   "id": "ad086e85",
   "metadata": {},
   "outputs": [],
   "source": [
    "# save as dataframe\n",
    "\n",
    "p_vals_e_df = pd.DataFrame(p_vals_e)\n",
    "\n",
    "p_vals_e_df.to_csv(f\"pvals_enriched.tsv\", sep=\"\\t\", index=False)"
   ]
  },
  {
   "cell_type": "code",
   "execution_count": 15,
   "id": "9c991965",
   "metadata": {},
   "outputs": [],
   "source": [
    "p_vals_d_df = pd.DataFrame(p_vals_d)\n",
    "\n",
    "p_vals_d_df.to_csv(f\"pvals_depleted.tsv\", sep=\"\\t\", index=False)"
   ]
  },
  {
   "cell_type": "code",
   "execution_count": null,
   "id": "58f25963",
   "metadata": {},
   "outputs": [],
   "source": []
  }
 ],
 "metadata": {
  "kernelspec": {
   "display_name": "Python 3 (ipykernel)",
   "language": "python",
   "name": "python3"
  },
  "language_info": {
   "codemirror_mode": {
    "name": "ipython",
    "version": 3
   },
   "file_extension": ".py",
   "mimetype": "text/x-python",
   "name": "python",
   "nbconvert_exporter": "python",
   "pygments_lexer": "ipython3",
   "version": "3.9.7"
  }
 },
 "nbformat": 4,
 "nbformat_minor": 5
}
